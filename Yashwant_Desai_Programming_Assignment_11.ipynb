{
 "cells": [
  {
   "cell_type": "markdown",
   "id": "0c27a818",
   "metadata": {},
   "source": [
    "# Yashwant Desai –  Programming_Assingment 11"
   ]
  },
  {
   "cell_type": "markdown",
   "id": "7e6267dc",
   "metadata": {},
   "source": [
    "# 1.Write a Python program to find words which are greater than given length k?"
   ]
  },
  {
   "cell_type": "code",
   "execution_count": 1,
   "id": "faeda022",
   "metadata": {},
   "outputs": [
    {
     "name": "stdout",
     "output_type": "stream",
     "text": [
      "Words greater than length 5: ['yashwant', 's.desai']\n"
     ]
    }
   ],
   "source": [
    "def find_words_length(word_list, k):\n",
    "    result = [word for word in word_list if len(word) > k]\n",
    "    return result\n",
    "user_list = [\"john\", \"yashwant\", \"s.desai\", \"conor\", \"smith\", \"yash\"]\n",
    "find_words = 5\n",
    "words_greater_than_k = find_words_length(user_list, find_words)\n",
    "print(f\"Words greater than length {find_words}: {words_greater_than_k}\")"
   ]
  },
  {
   "cell_type": "markdown",
   "id": "3ab2e6d3",
   "metadata": {},
   "source": [
    "# 2.\tWrite a Python program for removing i-th character from a string?"
   ]
  },
  {
   "cell_type": "code",
   "execution_count": 2,
   "id": "0399f223",
   "metadata": {},
   "outputs": [
    {
     "name": "stdout",
     "output_type": "stream",
     "text": [
      "Enter the string: yash i-th\n",
      "updated string: yash \n"
     ]
    }
   ],
   "source": [
    "def remove_character(string, remove_character):\n",
    "    return string.replace(remove_character, \"\")\n",
    "user_input = input(\"Enter the string: \")\n",
    "to_be_removed = (\"i-th\")    \n",
    "result = remove_character(user_input, to_be_removed)\n",
    "print(\"updated string:\", result)"
   ]
  },
  {
   "cell_type": "markdown",
   "id": "43a8163d",
   "metadata": {},
   "source": [
    "# 3.\tWrite a Python program to split and join a string?"
   ]
  },
  {
   "cell_type": "code",
   "execution_count": 3,
   "id": "5ec1a075",
   "metadata": {},
   "outputs": [
    {
     "name": "stdout",
     "output_type": "stream",
     "text": [
      "user input: hi,hello,how are you\n",
      "Enter delimiter: ,\n",
      "Split List: ['hi', 'hello', 'how are you']\n",
      "Joined String: hi,hello,how are you\n"
     ]
    }
   ],
   "source": [
    "def split_and_join(user_input, delimiter):\n",
    "    split = user_input.split(delimiter)\n",
    "    joined = delimiter.join(split)\n",
    "    return split, joined\n",
    "user_input = input(\"user input: \")\n",
    "delimiter = input(\"Enter delimiter: \")\n",
    "split_list, joined_string = split_and_join(user_input, delimiter)\n",
    "print(\"Split List:\", split_list)\n",
    "print(\"Joined String:\", joined_string)"
   ]
  },
  {
   "cell_type": "markdown",
   "id": "f4d34e17",
   "metadata": {},
   "source": [
    "# 4.\tWrite a Python to check if a given string is binary string or not?"
   ]
  },
  {
   "cell_type": "code",
   "execution_count": 4,
   "id": "215be0a3",
   "metadata": {},
   "outputs": [
    {
     "name": "stdout",
     "output_type": "stream",
     "text": [
      "user input: 11011001\n",
      "string is binary string\n"
     ]
    }
   ],
   "source": [
    "def is_binary_string(user_input):\n",
    "    for string in user_input:\n",
    "        if string not in ['0', '1']:\n",
    "            return False\n",
    "    return True\n",
    "user_input = input(\"user input: \")\n",
    "if is_binary_string(user_input):\n",
    "    print(\"string is binary string\")\n",
    "else:\n",
    "    print(\"string is not binary string\")"
   ]
  },
  {
   "cell_type": "markdown",
   "id": "96039ff0",
   "metadata": {},
   "source": [
    "# 5.\tWrite a Python program to find uncommon words from two Strings?"
   ]
  },
  {
   "cell_type": "code",
   "execution_count": 5,
   "id": "d45fd810",
   "metadata": {},
   "outputs": [
    {
     "name": "stdout",
     "output_type": "stream",
     "text": [
      "Enter the first string: how are you\n",
      "Enter the second string: i am fine\n",
      "Uncommon words: {'you', 'how', 'am', 'fine', 'i', 'are'}\n"
     ]
    }
   ],
   "source": [
    "def find_uncommon_words(string1, string2):\n",
    "    words1 = string1.split()\n",
    "    words2 = string2.split()\n",
    "    set1 = set(words1)\n",
    "    set2 = set(words2)\n",
    "    uncommon_words = set1.symmetric_difference(set2)\n",
    "    return uncommon_words\n",
    "string1 = input(\"Enter the first string: \")\n",
    "string2 = input(\"Enter the second string: \")\n",
    "uncommon_words = find_uncommon_words(string1, string2)\n",
    "print(\"Uncommon words:\", uncommon_words)"
   ]
  },
  {
   "cell_type": "markdown",
   "id": "cbf48f65",
   "metadata": {},
   "source": [
    "# 6.\tWrite a Python to find all duplicate characters in string?"
   ]
  },
  {
   "cell_type": "code",
   "execution_count": 6,
   "id": "86199b41",
   "metadata": {},
   "outputs": [
    {
     "name": "stdout",
     "output_type": "stream",
     "text": [
      "Enter a string: aabbccddefghh\n",
      "Duplicate characters: ['h', 'c', 'a', 'd', 'b']\n"
     ]
    }
   ],
   "source": [
    "def find_duplicate_characters(user_input):\n",
    "    duplicates = [char for char in user_input if user_input.count(char) > 1]\n",
    "    return list(set(duplicates))\n",
    "user_input = input(\"Enter a string: \")\n",
    "duplicate_string = find_duplicate_characters(user_input)\n",
    "if duplicate_string:\n",
    "    print(\"Duplicate characters:\", duplicate_string)\n",
    "else:\n",
    "    print(\"No duplicate characters found.\")"
   ]
  },
  {
   "cell_type": "markdown",
   "id": "e18905fe",
   "metadata": {},
   "source": [
    "# 7.Write a Python Program to check if a string contains any special character?"
   ]
  },
  {
   "cell_type": "code",
   "execution_count": 7,
   "id": "63cdf418",
   "metadata": {},
   "outputs": [
    {
     "name": "stdout",
     "output_type": "stream",
     "text": [
      "Enter a string: yash@\n",
      "string contains special character\n"
     ]
    }
   ],
   "source": [
    "import string\n",
    "def non_special_char(input_string):\n",
    "    updated_string = input_string.translate(str.maketrans('', '', string.punctuation))\n",
    "user_string = input(\"Enter a string: \")\n",
    "result = non_special_char(user_string)\n",
    "if user_string == result:\n",
    "    print(\"no special character\")\n",
    "else:\n",
    "    print(\"string contains special character\")"
   ]
  },
  {
   "cell_type": "markdown",
   "id": "a79c0885",
   "metadata": {},
   "source": [
    "# Done Regards,Yashwant"
   ]
  }
 ],
 "metadata": {
  "kernelspec": {
   "display_name": "Python 3 (ipykernel)",
   "language": "python",
   "name": "python3"
  },
  "language_info": {
   "codemirror_mode": {
    "name": "ipython",
    "version": 3
   },
   "file_extension": ".py",
   "mimetype": "text/x-python",
   "name": "python",
   "nbconvert_exporter": "python",
   "pygments_lexer": "ipython3",
   "version": "3.9.13"
  }
 },
 "nbformat": 4,
 "nbformat_minor": 5
}
